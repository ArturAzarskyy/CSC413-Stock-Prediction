{
  "nbformat": 4,
  "nbformat_minor": 0,
  "metadata": {
    "colab": {
      "name": "transformer_prepros.ipynb",
      "provenance": [],
      "collapsed_sections": [],
      "authorship_tag": "ABX9TyPFzin98EUjVaFZDyqahctI",
      "include_colab_link": true
    },
    "kernelspec": {
      "name": "python3",
      "display_name": "Python 3"
    },
    "language_info": {
      "name": "python"
    }
  },
  "cells": [
    {
      "cell_type": "markdown",
      "metadata": {
        "id": "view-in-github",
        "colab_type": "text"
      },
      "source": [
        "<a href=\"https://colab.research.google.com/github/ArturAzarskyy/CSC413-Stock-Prediction/blob/main/Transformer/transformer_prepros.ipynb\" target=\"_parent\"><img src=\"https://colab.research.google.com/assets/colab-badge.svg\" alt=\"Open In Colab\"/></a>"
      ]
    },
    {
      "cell_type": "code",
      "execution_count": null,
      "metadata": {
        "id": "QlDcGQ5Gx6B_"
      },
      "outputs": [],
      "source": [
        "!echo '{\"username\":\"arturusmaximus\",\"key\":\"4f14194978499e9ae1ad6adb74b94add\"}' > /content/kaggle.json\n",
        "!cp kaggle.json ~/.kaggle/\n",
        "!kaggle datasets download -d borismarjanovic/price-volume-data-for-all-us-stocks-etfs\n",
        "!unzip price-volume-data-for-all-us-stocks-etfs.zip"
      ]
    },
    {
      "cell_type": "code",
      "source": [
        "!head -10 /content/Stocks/a.us.txt"
      ],
      "metadata": {
        "colab": {
          "base_uri": "https://localhost:8080/"
        },
        "id": "AIGrivqu3oUV",
        "outputId": "d3261619-2ac5-4fe3-b6c1-6f549c29ea45"
      },
      "execution_count": 6,
      "outputs": [
        {
          "output_type": "stream",
          "name": "stdout",
          "text": [
            "Date,Open,High,Low,Close,Volume,OpenInt\r\n",
            "1999-11-18,30.713,33.754,27.002,29.702,66277506,0\r\n",
            "1999-11-19,28.986,29.027,26.872,27.257,16142920,0\r\n",
            "1999-11-22,27.886,29.702,27.044,29.702,6970266,0\r\n",
            "1999-11-23,28.688,29.446,27.002,27.002,6332082,0\r\n",
            "1999-11-24,27.083,28.309,27.002,27.717,5132147,0\r\n",
            "1999-11-26,27.594,28.012,27.509,27.807,1832635,0\r\n",
            "1999-11-29,27.676,28.65,27.38,28.432,4317826,0\r\n",
            "1999-11-30,28.35,28.986,27.634,28.48,4567146,0\r\n",
            "1999-12-01,28.48,29.324,28.273,28.986,3133746,0\r\n"
          ]
        }
      ]
    },
    {
      "cell_type": "code",
      "source": [
        "!head -10 /content/Data/Stocks/a.us.txt"
      ],
      "metadata": {
        "colab": {
          "base_uri": "https://localhost:8080/"
        },
        "id": "121w4mhn3sL6",
        "outputId": "a7eb6cd1-91f6-490c-8f02-46d97e4daab5"
      },
      "execution_count": 7,
      "outputs": [
        {
          "output_type": "stream",
          "name": "stdout",
          "text": [
            "Date,Open,High,Low,Close,Volume,OpenInt\r\n",
            "1999-11-18,30.713,33.754,27.002,29.702,66277506,0\r\n",
            "1999-11-19,28.986,29.027,26.872,27.257,16142920,0\r\n",
            "1999-11-22,27.886,29.702,27.044,29.702,6970266,0\r\n",
            "1999-11-23,28.688,29.446,27.002,27.002,6332082,0\r\n",
            "1999-11-24,27.083,28.309,27.002,27.717,5132147,0\r\n",
            "1999-11-26,27.594,28.012,27.509,27.807,1832635,0\r\n",
            "1999-11-29,27.676,28.65,27.38,28.432,4317826,0\r\n",
            "1999-11-30,28.35,28.986,27.634,28.48,4567146,0\r\n",
            "1999-12-01,28.48,29.324,28.273,28.986,3133746,0\r\n"
          ]
        }
      ]
    }
  ]
}