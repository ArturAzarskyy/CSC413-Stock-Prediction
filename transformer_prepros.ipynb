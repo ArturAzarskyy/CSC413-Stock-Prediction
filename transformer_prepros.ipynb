{
  "nbformat": 4,
  "nbformat_minor": 0,
  "metadata": {
    "colab": {
      "name": "transformer_prepros.ipynb",
      "provenance": [],
      "collapsed_sections": [],
      "authorship_tag": "ABX9TyOkd6eVAH6pB9i8Dv2EwX5e",
      "include_colab_link": true
    },
    "kernelspec": {
      "name": "python3",
      "display_name": "Python 3"
    },
    "language_info": {
      "name": "python"
    }
  },
  "cells": [
    {
      "cell_type": "markdown",
      "metadata": {
        "id": "view-in-github",
        "colab_type": "text"
      },
      "source": [
        "<a href=\"https://colab.research.google.com/github/ArturAzarskyy/CSC413-Stock-Prediction/blob/main/transformer_prepros.ipynb\" target=\"_parent\"><img src=\"https://colab.research.google.com/assets/colab-badge.svg\" alt=\"Open In Colab\"/></a>"
      ]
    },
    {
      "cell_type": "markdown",
      "source": [
        "# This is the preprocessing code for our modles\n",
        "\n",
        "Note that some parts of ideas and code was taken form the Jan Schmitz notebook on IBM stock prediciton [IBM stock predictor](https://github.com/JanSchm/CapMarket/blob/master/bot_experiments/IBM_Transformer%2BTimeEmbedding.ipynb). Though Jan S. worked only with one stock we extended the idea to multiple stocks as well as used different dataset. We are also looking at a bit different model as well.\n"
      ],
      "metadata": {
        "id": "jhuhIQFovDqx"
      }
    },
    {
      "cell_type": "code",
      "execution_count": null,
      "metadata": {
        "id": "QlDcGQ5Gx6B_"
      },
      "outputs": [],
      "source": [
        "!echo '{\"username\":\"arturusmaximus\",\"key\":\"4f14194978499e9ae1ad6adb74b94add\"}' > /content/kaggle.json\n",
        "!cp kaggle.json ~/.kaggle/\n",
        "# !kaggle datasets download -d borismarjanovic/price-volume-data-for-all-us-stocks-etfs\n",
        "!kaggle datasets download -d qks1lver/amex-nyse-nasdaq-stock-histories\n",
        "# !unzip price-volume-data-for-all-us-stocks-etfs.zip\n",
        "!unzip amex-nyse-nasdaq-stock-histories.zip"
      ]
    },
    {
      "cell_type": "code",
      "source": [
        "import tables\n",
        "import pandas as pd\n",
        "import torch as ty\n",
        "import os.path\n",
        "import numpy as np\n"
      ],
      "metadata": {
        "id": "DBzAmkzAMVgZ"
      },
      "execution_count": null,
      "outputs": []
    },
    {
      "cell_type": "code",
      "source": [
        "\n",
        "train_file = tables.open_file(\"train_data.hdf5\", mode='w')\n",
        "val_file = tables.open_file(\"val_data.hdf5\", mode='w')\n",
        "test_file = tables.open_file(\"test_data.hdf5\", mode='w')"
      ],
      "metadata": {
        "id": "OAo4he2sHyRu"
      },
      "execution_count": null,
      "outputs": []
    },
    {
      "cell_type": "code",
      "source": [
        "import tables\n",
        "\n",
        "time_step = 1\n",
        "stock_histoy_lenght = 128 # this does not include the label\n",
        "num_params = 5\n",
        "do_moving_avg = False \n",
        "moving_dist = 5\n",
        "# stock_histoy_lenght = 63 # this does not include the label\n",
        "\n",
        "filters = tables.Filters(complevel=5, complib='blosc')\n",
        "\n",
        "train_data  = train_file.create_earray(train_file.root, 'data',\n",
        "                                      tables.Atom.from_dtype(np.dtype('float64')),\n",
        "                                      shape=(0, stock_histoy_lenght, num_params),\n",
        "                                      filters=filters,\n",
        "                                      expectedrows=10e6)\n",
        "train_labels = train_file.create_earray(train_file.root, 'labels',\n",
        "                                       tables.Atom.from_dtype(np.dtype('float64')),\n",
        "                                       shape=(0,),\n",
        "                                       filters=filters,\n",
        "                                       expectedrows=10e6)\n",
        "val_data = val_file.create_earray(val_file.root, 'data',\n",
        "                                  tables.Atom.from_dtype(np.dtype('float64')),\n",
        "                                  shape=(0, stock_histoy_lenght, num_params),\n",
        "                                  filters=filters,\n",
        "                                  expectedrows=4e6)\n",
        "val_labels = val_file.create_earray(val_file.root, 'labels',\n",
        "                                   tables.Atom.from_dtype(np.dtype('float64')),\n",
        "                                   shape=(0,),\n",
        "                                   filters=filters,\n",
        "                                   expectedrows=10e6)\n",
        "test_data = test_file.create_earray(test_file.root, 'data',\n",
        "                                   tables.Atom.from_dtype(np.dtype('float64')),\n",
        "                                   shape=(0, stock_histoy_lenght, num_params),\n",
        "                                   filters=filters,\n",
        "                                   expectedrows=4e6)\n",
        "test_labels = test_file.create_earray(test_file.root, 'labels',\n",
        "                                     tables.Atom.from_dtype(np.dtype('float64')),\n",
        "                                     shape=(0,),\n",
        "                                     filters=filters,\n",
        "                                     expectedrows=1e6)"
      ],
      "metadata": {
        "id": "uDf-WA6-xi7I"
      },
      "execution_count": null,
      "outputs": []
    },
    {
      "cell_type": "code",
      "source": [
        "# import pdb\n",
        "\n",
        "with open('all_symbols.txt') as topo_file:\n",
        "    for line in topo_file:\n",
        "        if os.path.isfile(\"full_history/\"+line[:-1]+\".csv\"):\n",
        "            df = pd.read_csv(\"full_history/\"+line[:-1]+\".csv\",\n",
        "                             delimiter=',', \n",
        "                             usecols=['date', 'open', 'high', 'low', 'close', 'volume'])\n",
        "            \n",
        "            if len(df.index.values) == 0:\n",
        "                continue\n",
        "            df['volume'].replace(to_replace=0, method='ffill', inplace=True) \n",
        "            df.sort_values('date', inplace=True)\n",
        "            df = df.reset_index(drop=True)\n",
        "\n",
        "            if do_moving_avg:\n",
        "                df[['open', 'high', 'low', 'close', \n",
        "                    'volume']] = df[['open', 'high',\n",
        "                                     'low', 'close',\n",
        "                                     'volume']].rolling(moving_dist).mean() \n",
        "\n",
        "            df.dropna(how='any', axis=0, inplace=True)\n",
        "            df['open'] = df['open'].pct_change()\n",
        "            df['high'] = df['high'].pct_change()\n",
        "            df['low'] = df['low'].pct_change()\n",
        "            df['close'] = df['close'].pct_change()\n",
        "            df['volume'] = df['volume'].pct_change()\n",
        "            df.dropna(how='any', axis=0, inplace=True)\n",
        "\n",
        "            valid_start = sorted(df.index.values)[-int(0.3*df.shape[0])]  \n",
        "            test_start = sorted(df.index.values)[-int(0.1*df.shape[0])]\n",
        "\n",
        "            if int(0.2*df.shape[0]) < stock_histoy_lenght+1 or int(0.1*df.shape[0]) < stock_histoy_lenght+1:\n",
        "                continue\n",
        "            min_return = min(df[(df.index < valid_start)][['open', 'high', 'low', 'close']].min(axis=0))\n",
        "            max_return = max(df[(df.index < valid_start)][['open', 'high', 'low', 'close']].max(axis=0))\n",
        "\n",
        "            df['open'] = (df['open'] - min_return) / (max_return - min_return)\n",
        "            df['high'] = (df['high'] - min_return) / (max_return - min_return)\n",
        "            df['low'] =  (df['low'] - min_return) / (max_return - min_return)\n",
        "            df['close']= (df['close'] - min_return) / (max_return - min_return)\n",
        "\n",
        "            min_volume = df[(df.index < valid_start)]['volume'].min(axis=0)\n",
        "            max_volume = df[(df.index < valid_start)]['volume'].max(axis=0)\n",
        "\n",
        "            df['volume'] = (df['volume'] - min_volume) / (max_volume - min_volume)\n",
        "\n",
        "\n",
        "            df.drop(columns=['date'], inplace=True)\n",
        "            df_train = df[(df.index < valid_start)]\n",
        "            df_val = df[(df.index >= valid_start) & (df.index < test_start)]\n",
        "            df_test = df[(df.index >= test_start)]\n",
        "\n",
        "            c_train_data = df_train.values\n",
        "            c_val_data = df_val.values\n",
        "            c_test_data = df_test.values\n",
        "            for i in range(stock_histoy_lenght, len(c_train_data), time_step):\n",
        "                train_data.append(c_train_data[i-stock_histoy_lenght:i][None])\n",
        "                train_labels.append(c_train_data[i, 3][None])\n",
        "            for i in range(stock_histoy_lenght, len(c_val_data), time_step):\n",
        "                val_data.append(c_val_data[i-stock_histoy_lenght:i][None])\n",
        "                val_labels.append(c_val_data[i, 3][None])\n",
        "            for i in range(stock_histoy_lenght, len(c_test_data), time_step):\n",
        "                test_data.append(c_test_data[i-stock_histoy_lenght:i][None])\n",
        "                test_labels.append(c_test_data[i, 3][None])\n",
        "\n",
        "\n"
      ],
      "metadata": {
        "id": "2uouYOPwyLKZ"
      },
      "execution_count": null,
      "outputs": []
    },
    {
      "cell_type": "code",
      "source": [
        "train_file"
      ],
      "metadata": {
        "colab": {
          "base_uri": "https://localhost:8080/"
        },
        "id": "5v55Kay0W327",
        "outputId": "9747441d-f72d-449f-a9d3-43fafa70500a"
      },
      "execution_count": null,
      "outputs": [
        {
          "output_type": "execute_result",
          "data": {
            "text/plain": [
              "File(filename=train_data.hdf5, title='', mode='w', root_uep='/', filters=Filters(complevel=0, shuffle=False, bitshuffle=False, fletcher32=False, least_significant_digit=None))\n",
              "/ (RootGroup) ''\n",
              "/data (EArray(12573778, 128, 5)shuffle, blosc(5)) ''\n",
              "  atom := Float64Atom(shape=(), dflt=0.0)\n",
              "  maindim := 0\n",
              "  flavor := 'numpy'\n",
              "  byteorder := 'little'\n",
              "  chunkshape := (204, 128, 5)\n",
              "/labels (EArray(12573778,)shuffle, blosc(5)) ''\n",
              "  atom := Float64Atom(shape=(), dflt=0.0)\n",
              "  maindim := 0\n",
              "  flavor := 'numpy'\n",
              "  byteorder := 'little'\n",
              "  chunkshape := (16384,)"
            ]
          },
          "metadata": {},
          "execution_count": 43
        }
      ]
    },
    {
      "cell_type": "code",
      "source": [
        "val_file"
      ],
      "metadata": {
        "colab": {
          "base_uri": "https://localhost:8080/"
        },
        "id": "O4HLgWYDXIWM",
        "outputId": "07c61054-2438-4143-c899-61c194ce1dca"
      },
      "execution_count": null,
      "outputs": [
        {
          "output_type": "execute_result",
          "data": {
            "text/plain": [
              "File(filename=val_data.hdf5, title='', mode='w', root_uep='/', filters=Filters(complevel=0, shuffle=False, bitshuffle=False, fletcher32=False, least_significant_digit=None))\n",
              "/ (RootGroup) ''\n",
              "/data (EArray(3204370, 128, 5)shuffle, blosc(5)) ''\n",
              "  atom := Float64Atom(shape=(), dflt=0.0)\n",
              "  maindim := 0\n",
              "  flavor := 'numpy'\n",
              "  byteorder := 'little'\n",
              "  chunkshape := (204, 128, 5)\n",
              "/labels (EArray(3204370,)shuffle, blosc(5)) ''\n",
              "  atom := Float64Atom(shape=(), dflt=0.0)\n",
              "  maindim := 0\n",
              "  flavor := 'numpy'\n",
              "  byteorder := 'little'\n",
              "  chunkshape := (16384,)"
            ]
          },
          "metadata": {},
          "execution_count": 44
        }
      ]
    },
    {
      "cell_type": "code",
      "source": [
        "test_file"
      ],
      "metadata": {
        "colab": {
          "base_uri": "https://localhost:8080/"
        },
        "id": "dyk4CuCAXKTr",
        "outputId": "3dbd1e33-5464-44d5-d584-85faf3295f8d"
      },
      "execution_count": null,
      "outputs": [
        {
          "output_type": "execute_result",
          "data": {
            "text/plain": [
              "File(filename=test_data.hdf5, title='', mode='w', root_uep='/', filters=Filters(complevel=0, shuffle=False, bitshuffle=False, fletcher32=False, least_significant_digit=None))\n",
              "/ (RootGroup) ''\n",
              "/data (EArray(1328977, 128, 5)shuffle, blosc(5)) ''\n",
              "  atom := Float64Atom(shape=(), dflt=0.0)\n",
              "  maindim := 0\n",
              "  flavor := 'numpy'\n",
              "  byteorder := 'little'\n",
              "  chunkshape := (204, 128, 5)\n",
              "/labels (EArray(1328977,)shuffle, blosc(5)) ''\n",
              "  atom := Float64Atom(shape=(), dflt=0.0)\n",
              "  maindim := 0\n",
              "  flavor := 'numpy'\n",
              "  byteorder := 'little'\n",
              "  chunkshape := (8192,)"
            ]
          },
          "metadata": {},
          "execution_count": 45
        }
      ]
    },
    {
      "cell_type": "code",
      "source": [
        "\n",
        "train_file.close()\n",
        "val_file.close()\n",
        "test_file.close()"
      ],
      "metadata": {
        "id": "7Q3J8O9GH1Zv"
      },
      "execution_count": null,
      "outputs": []
    },
    {
      "cell_type": "code",
      "source": [
        "train_file = tables.open_file(\"train_data.hdf5\", mode='r')\n",
        "val_file = tables.open_file(\"val_data.hdf5\", mode='r')\n",
        "test_file = tables.open_file(\"test_data.hdf5\", mode='r')\n"
      ],
      "metadata": {
        "id": "eOaTZ0aHXU3u"
      },
      "execution_count": null,
      "outputs": []
    },
    {
      "cell_type": "code",
      "source": [
        "train_file.root.data.shape, train_file.root.labels.shape"
      ],
      "metadata": {
        "colab": {
          "base_uri": "https://localhost:8080/"
        },
        "id": "f4Al5S-SXj_3",
        "outputId": "22e9528d-7257-4c62-fca4-e0709cc96fe1"
      },
      "execution_count": null,
      "outputs": [
        {
          "output_type": "execute_result",
          "data": {
            "text/plain": [
              "((12573778, 128, 5), (12573778,))"
            ]
          },
          "metadata": {},
          "execution_count": 55
        }
      ]
    },
    {
      "cell_type": "code",
      "source": [
        "val_file.root.data.shape, val_file.root.labels.shape"
      ],
      "metadata": {
        "colab": {
          "base_uri": "https://localhost:8080/"
        },
        "id": "PPOQoF2QX27f",
        "outputId": "f867fed7-5ac9-45c8-baea-e7ebd787a040"
      },
      "execution_count": null,
      "outputs": [
        {
          "output_type": "execute_result",
          "data": {
            "text/plain": [
              "((3204370, 128, 5), (3204370,))"
            ]
          },
          "metadata": {},
          "execution_count": 56
        }
      ]
    },
    {
      "cell_type": "code",
      "source": [
        "test_file.root.data.shape, test_file.root.labels.shape"
      ],
      "metadata": {
        "colab": {
          "base_uri": "https://localhost:8080/"
        },
        "id": "nYyqLrG2YBZK",
        "outputId": "4219179c-196f-4f01-ce49-cb79ffced3c6"
      },
      "execution_count": null,
      "outputs": [
        {
          "output_type": "execute_result",
          "data": {
            "text/plain": [
              "((1328977, 128, 5), (1328977,))"
            ]
          },
          "metadata": {},
          "execution_count": 57
        }
      ]
    },
    {
      "cell_type": "code",
      "source": [
        "train_file.close()\n",
        "val_file.close()\n",
        "test_file.close()\n"
      ],
      "metadata": {
        "id": "BgXaGAFOXd7L"
      },
      "execution_count": null,
      "outputs": []
    },
    {
      "cell_type": "markdown",
      "source": [
        "## Zip and upload the data to google drive"
      ],
      "metadata": {
        "id": "YqRb8dfrYnyX"
      }
    },
    {
      "cell_type": "code",
      "source": [
        "!zip sp_data_orig.zip test_data.hdf5 train_data.hdf5 val_data.hdf5"
      ],
      "metadata": {
        "colab": {
          "base_uri": "https://localhost:8080/"
        },
        "id": "008rPMebY711",
        "outputId": "3759be43-9cfe-46ca-bd7f-466acc94a3c1"
      },
      "execution_count": null,
      "outputs": [
        {
          "output_type": "stream",
          "name": "stdout",
          "text": [
            "  adding: test_data.hdf5 (deflated 42%)\n",
            "  adding: train_data.hdf5 (deflated 48%)\n",
            "  adding: val_data.hdf5 (deflated 46%)\n"
          ]
        }
      ]
    },
    {
      "cell_type": "code",
      "source": [
        "from google.colab import drive\n",
        "drive.mount('/amd/')"
      ],
      "metadata": {
        "colab": {
          "base_uri": "https://localhost:8080/"
        },
        "id": "m4SZKsdkYxXz",
        "outputId": "35a9e996-6ee0-42ae-8110-06995071559e"
      },
      "execution_count": null,
      "outputs": [
        {
          "output_type": "stream",
          "name": "stdout",
          "text": [
            "Mounted at /amd/\n"
          ]
        }
      ]
    },
    {
      "cell_type": "code",
      "source": [
        "!cp sp_data_orig.zip /amd/My\\ Drive/CSC413/Data"
      ],
      "metadata": {
        "id": "EYWK0OCPZkuR"
      },
      "execution_count": null,
      "outputs": []
    }
  ]
}